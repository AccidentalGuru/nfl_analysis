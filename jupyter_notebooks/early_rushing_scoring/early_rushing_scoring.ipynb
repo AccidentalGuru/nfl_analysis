{
 "cells": [
  {
   "cell_type": "code",
   "execution_count": 1,
   "metadata": {},
   "outputs": [],
   "source": [
    "import pandas as pd\n",
    "import numpy as np\n",
    "import matplotlib.pyplot as plt\n",
    "import os\n",
    "from matplotlib.offsetbox import OffsetImage, AnnotationBbox"
   ]
  },
  {
   "cell_type": "code",
   "execution_count": 2,
   "metadata": {},
   "outputs": [],
   "source": [
    "pd.set_option('display.max_rows', 500)\n",
    "pd.set_option('display.max_columns', 300)\n",
    "pd.options.mode.chained_assignment = None"
   ]
  },
  {
   "cell_type": "code",
   "execution_count": 72,
   "metadata": {},
   "outputs": [],
   "source": [
    "data = pd.read_csv('https://raw.githubusercontent.com/ryurko/nflscrapR-data/master/play_by_play_data/regular_season/reg_pbp_2018.csv')"
   ]
  },
  {
   "cell_type": "code",
   "execution_count": 73,
   "metadata": {},
   "outputs": [],
   "source": [
    "#Get rid of quarters ending and other events\n",
    "data = data.loc[\n",
    "    (data['epa'].notnull()) &\n",
    "    ((data['play_type'] == 'no_play') |\n",
    "    (data['play_type'] == 'pass') |\n",
    "    (data['play_type'] == 'run'))\n",
    "]\n",
    "\n",
    "#Remove timeouts\n",
    "data.drop(data[(data['replay_or_challenge'] == 0) & (data['desc'].str.contains('Timeout'))].index, inplace=True)\n",
    "\n",
    "#Classify running plays with penalities as runs\n",
    "data.loc[data.desc.str.contains('left end|left tackle|left guard|up the middle|right guard|right tackle|right end|rushes'), 'play_type'] = 'run'\n",
    "\n",
    "#Classify scrambles, sacks, and incomplete/complete with penalty as pass plays instead of runs/no play\n",
    "data.loc[data.desc.str.contains('scrambles|sacked|pass'), 'play_type'] = 'pass'\n",
    "\n",
    "#Remove kneels and spikes\n",
    "#Kneels and spikes with penalties are classified as no_play, thus not removed in above cell\n",
    "data = data.loc[data.desc.str.contains('kneels|spiked') == False]\n",
    "\n",
    "#Delete any kicks\n",
    "data = data.loc[data.desc.str.contains('kicks') == False]\n",
    "\n",
    "#Reindex data dataframe\n",
    "data.reset_index(drop=True, inplace=True)"
   ]
  },
  {
   "cell_type": "code",
   "execution_count": 74,
   "metadata": {},
   "outputs": [],
   "source": [
    "#Create a smaller dataframe with plays where rusher_player_name is null\n",
    "rusher_nan = data.loc[(data['play_type'] == 'run') &\n",
    "         (data['rusher_player_name'].isnull())]\n",
    "\n",
    "#Create a list of the indexes/indices for the plays where rusher_player_name is null\n",
    "rusher_nan_indices = list(rusher_nan.index)\n",
    "\n",
    "for i in rusher_nan_indices:\n",
    "    #Split the description on the blank spaces, isolating each word\n",
    "    desc = data['desc'].iloc[i].split()\n",
    "    \n",
    "    #For each word in the play description\n",
    "    for j in range(0,len(desc)):\n",
    "        #If a word is right, up, or left\n",
    "        if desc[j] == 'right' or desc[j] == 'up' or desc[j] == 'left':\n",
    "            #Set rusher_player_name for that play to the word just before the direction\n",
    "            data['rusher_player_name'].iloc[i] = desc[j-1]\n",
    "            \n",
    "        else:\n",
    "            pass"
   ]
  },
  {
   "cell_type": "code",
   "execution_count": 75,
   "metadata": {},
   "outputs": [],
   "source": [
    "passer_nan = data.loc[(data['play_type'] == 'pass') &\n",
    "         (data['passer_player_name'].isnull())]\n",
    "\n",
    "passer_nan_indices = list(passer_nan.index)\n",
    "\n",
    "for i in passer_nan_indices:\n",
    "    desc = data['desc'].iloc[i].split()\n",
    "    \n",
    "    for j in range(0,len(desc)):\n",
    "        if desc[j] == 'pass':\n",
    "            data['passer_player_name'].iloc[i] = desc[j-1]\n",
    "            \n",
    "        else:\n",
    "            pass\n",
    "        \n",
    "data.loc[data['passer_player_name'] == 'Backward', 'passer_player_name'] = float('NaN')"
   ]
  },
  {
   "cell_type": "code",
   "execution_count": 76,
   "metadata": {},
   "outputs": [],
   "source": [
    "data.insert(69, 'success', 0)\n",
    "data.loc[data['epa'] > 0, 'success'] = 1"
   ]
  },
  {
   "cell_type": "code",
   "execution_count": 110,
   "metadata": {},
   "outputs": [],
   "source": [
    "game_ids = set(data['game_id'])"
   ]
  },
  {
   "cell_type": "code",
   "execution_count": 159,
   "metadata": {},
   "outputs": [],
   "source": [
    "run_plays = []\n",
    "run_epa = []\n",
    "run_success = []\n",
    "dropbacks = []\n",
    "dropbacks_epa = []\n",
    "dropbacks_success = []\n",
    "score = []\n",
    "wp = []\n",
    "\n",
    "for i in game_ids:\n",
    "    game_plays = data.loc[data['game_id']==i]\n",
    "    \n",
    "    away_team = game_plays['away_team'].values[0]\n",
    "    home_team = game_plays['home_team'].values[0]\n",
    "    \n",
    "    #Set play constraints\n",
    "    game_plays = game_plays.loc[(game_plays['game_half']=='Half1')\n",
    "                               & (game_plays['down']<=3)\n",
    "                               ]\n",
    "    \n",
    "    away_plays = game_plays.loc[(game_plays['posteam']==away_team)]\n",
    "    home_plays = game_plays.loc[(game_plays['posteam']==home_team)]\n",
    "    \n",
    "    away_runs = away_plays.loc[away_plays['play_type']=='run']\n",
    "    away_dropbacks = away_plays.loc[away_plays['play_type']=='pass']\n",
    "    \n",
    "    home_runs = home_plays.loc[home_plays['play_type']=='run']\n",
    "    home_dropbacks = home_plays.loc[home_plays['play_type']=='pass']\n",
    "    \n",
    "    #Away team stats\n",
    "    run_plays.append(len(away_runs))\n",
    "    run_epa.append(away_runs['epa'].mean())\n",
    "    run_success.append(away_runs['success'].mean())    \n",
    "    \n",
    "    dropbacks.append(len(away_dropbacks))\n",
    "    dropbacks_epa.append(away_dropbacks['epa'].mean())\n",
    "    dropbacks_success.append(away_dropbacks['success'].mean())\n",
    "    \n",
    "    score.append(away_plays['total_away_score'].values[-1]) \n",
    "    wp.append(away_plays['away_wp'].values[-1]) \n",
    "    \n",
    "    #Home team stats\n",
    "    run_plays.append(len(home_runs))\n",
    "    run_epa.append(home_runs['epa'].mean())\n",
    "    run_success.append(home_runs['success'].mean())    \n",
    "    \n",
    "    dropbacks.append(len(home_dropbacks))\n",
    "    dropbacks_epa.append(home_dropbacks['epa'].mean())\n",
    "    dropbacks_success.append(home_dropbacks['success'].mean())\n",
    "    \n",
    "    score.append(home_plays['total_home_score'].values[-1]) \n",
    "    wp.append(home_plays['home_wp'].values[-1]) "
   ]
  },
  {
   "cell_type": "code",
   "execution_count": 160,
   "metadata": {},
   "outputs": [],
   "source": [
    "run_plays = np.asarray(run_plays)\n",
    "dropbacks = np.asarray(dropbacks)\n",
    "score = np.asarray(score)\n",
    "wp = np.asarray(wp)"
   ]
  },
  {
   "cell_type": "code",
   "execution_count": 161,
   "metadata": {},
   "outputs": [
    {
     "data": {
      "text/plain": [
       "0.4187711484811011"
      ]
     },
     "execution_count": 161,
     "metadata": {},
     "output_type": "execute_result"
    }
   ],
   "source": [
    "np.corrcoef(run_epa,score)[1,0]"
   ]
  },
  {
   "cell_type": "code",
   "execution_count": 162,
   "metadata": {},
   "outputs": [
    {
     "data": {
      "text/plain": [
       "0.3401389652989098"
      ]
     },
     "execution_count": 162,
     "metadata": {},
     "output_type": "execute_result"
    }
   ],
   "source": [
    "np.corrcoef(run_success,score)[1,0]"
   ]
  },
  {
   "cell_type": "code",
   "execution_count": 163,
   "metadata": {},
   "outputs": [
    {
     "data": {
      "text/plain": [
       "0.678077051570628"
      ]
     },
     "execution_count": 163,
     "metadata": {},
     "output_type": "execute_result"
    }
   ],
   "source": [
    "np.corrcoef(dropbacks_epa,score)[1,0]"
   ]
  },
  {
   "cell_type": "code",
   "execution_count": 164,
   "metadata": {},
   "outputs": [
    {
     "data": {
      "text/plain": [
       "0.5348761798357784"
      ]
     },
     "execution_count": 164,
     "metadata": {},
     "output_type": "execute_result"
    }
   ],
   "source": [
    "np.corrcoef(dropbacks_success,score)[1,0]"
   ]
  },
  {
   "cell_type": "code",
   "execution_count": null,
   "metadata": {},
   "outputs": [],
   "source": []
  }
 ],
 "metadata": {
  "kernelspec": {
   "display_name": "Python 3",
   "language": "python",
   "name": "python3"
  },
  "language_info": {
   "codemirror_mode": {
    "name": "ipython",
    "version": 3
   },
   "file_extension": ".py",
   "mimetype": "text/x-python",
   "name": "python",
   "nbconvert_exporter": "python",
   "pygments_lexer": "ipython3",
   "version": "3.7.3"
  }
 },
 "nbformat": 4,
 "nbformat_minor": 2
}
