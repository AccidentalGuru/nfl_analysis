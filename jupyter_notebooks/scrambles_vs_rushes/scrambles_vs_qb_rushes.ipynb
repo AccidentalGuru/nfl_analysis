{
 "cells": [
  {
   "cell_type": "code",
   "execution_count": null,
   "metadata": {},
   "outputs": [],
   "source": [
    "import pandas as pd\n",
    "import numpy as np\n",
    "import matplotlib.pyplot as plt"
   ]
  },
  {
   "cell_type": "code",
   "execution_count": null,
   "metadata": {},
   "outputs": [],
   "source": [
    "pd.set_option('display.max_rows', 500)\n",
    "pd.set_option('display.max_columns', 300)\n",
    "pd.options.mode.chained_assignment = None"
   ]
  },
  {
   "cell_type": "code",
   "execution_count": null,
   "metadata": {},
   "outputs": [],
   "source": [
    "data = pd.read_csv('https://raw.githubusercontent.com/ryurko/nflscrapR-data/master/play_by_play_data/regular_season/reg_pbp_2018.csv')"
   ]
  },
  {
   "cell_type": "code",
   "execution_count": null,
   "metadata": {},
   "outputs": [],
   "source": [
    "#Get rid of quarters ending and other events\n",
    "data = data.loc[\n",
    "    (data['epa'].notnull()) &\n",
    "    ((data['play_type'] == 'no_play') |\n",
    "    (data['play_type'] == 'pass') |\n",
    "    (data['play_type'] == 'run'))\n",
    "]\n",
    "\n",
    "#Remove timeouts\n",
    "data.drop(data[(data['replay_or_challenge'] == 0) & (data['desc'].str.contains('Timeout'))].index, inplace=True)\n",
    "\n",
    "#Classify running plays with penalities as runs\n",
    "data.loc[data.desc.str.contains('left end|left tackle|left guard|up the middle|right guard|right tackle|right end|rushes'), 'play_type'] = 'run'\n",
    "\n",
    "#Classify scrambles, sacks, and incomplete/complete with penalty as pass plays instead of runs/no play\n",
    "data.loc[data.desc.str.contains('scrambles|sacked|pass'), 'play_type'] = 'pass'\n",
    "\n",
    "#Remove kneels and spikes\n",
    "#Kneels and spikes with penalties are classified as no_play, thus not removed in above cell\n",
    "data = data.loc[data.desc.str.contains('kneels|spiked') == False]\n",
    "\n",
    "#Reindex data dataframe\n",
    "data.reset_index(drop=True, inplace=True)"
   ]
  },
  {
   "cell_type": "code",
   "execution_count": null,
   "metadata": {},
   "outputs": [],
   "source": [
    "#Create a smaller dataframe with plays where rusher_player_name is null\n",
    "rusher_nan = data.loc[(data['play_type'] == 'run') &\n",
    "         (data['rusher_player_name'].isnull())]\n",
    "\n",
    "#Create a list of the indexes/indices for the plays where rusher_player_name is null\n",
    "rusher_nan_indices = list(rusher_nan.index)\n",
    "\n",
    "for i in rusher_nan_indices:\n",
    "    #Split the description on the blank spaces, isolating each word\n",
    "    desc = data['desc'].iloc[i].split()\n",
    "    \n",
    "    #For each word in the play description\n",
    "    for j in range(0,len(desc)):\n",
    "        #If a word is right, up, or left\n",
    "        if desc[j] == 'right' or desc[j] == 'up' or desc[j] == 'left':\n",
    "            #Set rusher_player_name for that play to the word just before the direction\n",
    "            data['rusher_player_name'].iloc[i] = desc[j-1]\n",
    "            \n",
    "        else:\n",
    "            pass"
   ]
  },
  {
   "cell_type": "code",
   "execution_count": null,
   "metadata": {},
   "outputs": [],
   "source": [
    "passer_nan = data.loc[(data['play_type'] == 'pass') &\n",
    "         (data['passer_player_name'].isnull())]\n",
    "\n",
    "passer_nan_indices = list(passer_nan.index)\n",
    "\n",
    "for i in passer_nan_indices:\n",
    "    desc = data['desc'].iloc[i].split()\n",
    "    \n",
    "    for j in range(0,len(desc)):\n",
    "        if desc[j] == 'pass':\n",
    "            data['passer_player_name'].iloc[i] = desc[j-1]\n",
    "            \n",
    "        else:\n",
    "            pass\n",
    "        \n",
    "data.loc[data['passer_player_name'] == 'Backward', 'passer_player_name'] = float('NaN')"
   ]
  },
  {
   "cell_type": "code",
   "execution_count": null,
   "metadata": {},
   "outputs": [],
   "source": [
    "data.insert(69, 'success', 0)\n",
    "data.loc[data['epa'] > 0, 'success'] = 1"
   ]
  },
  {
   "cell_type": "code",
   "execution_count": null,
   "metadata": {},
   "outputs": [],
   "source": [
    "#Get list of passers and how many 'pass' plays they were a part of\n",
    "passers = data.groupby(by='passer_player_name')['epa'].count()\n",
    "\n",
    "#Filter out passers with less than 80 dropbacks\n",
    "passers = passers.loc[passers.values >= 80]\n",
    "\n",
    "#Isolate just the passer names\n",
    "passers = passers.index"
   ]
  },
  {
   "cell_type": "code",
   "execution_count": null,
   "metadata": {},
   "outputs": [],
   "source": [
    "epa_qb_running = data['epa'].loc[(data['play_type']=='run') & (data['rusher_player_name'].isin(passers))]\n",
    "epa_scrambles = data['epa'].loc[data['desc'].str.contains('scrambles')]\n",
    "epa_nonqb_running = data['epa'].loc[(data['play_type']=='run') & (data['rusher_player_name'].isin(passers) == False)]"
   ]
  },
  {
   "cell_type": "code",
   "execution_count": null,
   "metadata": {},
   "outputs": [],
   "source": [
    "#Chart all runs and scrambles\n",
    "fig, ax = plt.subplots(figsize=(10,6))\n",
    "\n",
    "ax.hist(epa_qb_running, label='Designed QB Runs', bins=20, color='slategrey')\n",
    "ax.hist(epa_scrambles, label='Scrambles', bins=20, color='springgreen', alpha=.6)\n",
    "\n",
    "ax.set_ylabel('Number of Plays (log scale)')\n",
    "ax.set_xticks(np.linspace(-9,9,19))\n",
    "ax.set_xlabel('Expected Points Added')\n",
    "ax.set_title('EPA on Designed QB Runs vs Scrambles - 2018')\n",
    "ax.text(5.7, 5, 'Data from nflscrapR', alpha=.7)\n",
    "ax.legend()\n",
    "\n",
    "plt.savefig('epa_qb_runs_vs_scrambles.png', dpi=400)"
   ]
  },
  {
   "cell_type": "code",
   "execution_count": null,
   "metadata": {},
   "outputs": [],
   "source": [
    "#Chart designed qb runs and non-qb runs\n",
    "fig, ax = plt.subplots(figsize=(10,6))\n",
    "\n",
    "ax.hist(epa_nonqb_running, label='Designed QB Runs', bins=20, color='slategrey')\n",
    "ax.hist(epa_qb_running, label='Non-QB Runs', bins=20, color='springgreen')\n",
    "\n",
    "ax.set_yscale('log')\n",
    "ax.set_yticks([1, 10, 100, 1000, 10000])\n",
    "ax.set_ylabel('Number of Plays (log scale)')\n",
    "ax.set_xticks(np.linspace(-9,9,19))\n",
    "ax.set_xlabel('Expected Points Added')\n",
    "ax.set_title('EPA on Designed Runs vs Scrambles (Neutral Situations) - 2018')\n",
    "ax.text(5.8, 2000, 'Data from nflscrapR', alpha=.7)\n",
    "ax.legend()\n",
    "\n",
    "plt.savefig('epa_qb_runs_vs_non_qb.png', dpi=400)"
   ]
  },
  {
   "cell_type": "code",
   "execution_count": null,
   "metadata": {},
   "outputs": [],
   "source": [
    "#Chart all three categories\n",
    "fig, ax = plt.subplots(figsize=(10,6))\n",
    "\n",
    "ax.hist(epa_nonqb_running, label='Designed QB Runs', bins=20, color='slategrey')\n",
    "ax.hist(epa_qb_running, label='Non-QB Runs', bins=20, color='springgreen')\n",
    "ax.hist(epa_scrambles, label='Scrambles', bins= 20, color='dodgerblue', alpha=.7)\n",
    "\n",
    "ax.set_yscale('log')\n",
    "ax.set_yticks([1, 10, 100, 1000, 10000])\n",
    "ax.set_ylabel('Number of Plays (log scale)')\n",
    "ax.set_xticks(np.linspace(-9,9,19))\n",
    "ax.set_xlabel('Expected Points Added')\n",
    "ax.set_title('EPA: Designed QB Runs vs Non-QB Runs vs Scrambles - 2018')\n",
    "ax.text(5.8, 1500, 'Data from nflscrapR', alpha=.7)\n",
    "ax.legend()\n",
    "\n",
    "plt.savefig('all_runs.png', dpi=400)"
   ]
  },
  {
   "cell_type": "code",
   "execution_count": null,
   "metadata": {},
   "outputs": [],
   "source": [
    "#Success rates from designed runs and scrambles\n",
    "non_qb_run_success = data['success'].loc[(data['play_type']=='run') & (data['rusher_player_name'].isin(passers) == False)].mean()\n",
    "qb_run_success = data['success'].loc[(data['play_type']=='run') & (data['rusher_player_name'].isin(passers))].mean()\n",
    "scramble_success = data['success'].loc[data['desc'].str.contains('scrambles')].mean()"
   ]
  },
  {
   "cell_type": "code",
   "execution_count": null,
   "metadata": {},
   "outputs": [],
   "source": [
    "#Create a summary dataframe\n",
    "df = pd.DataFrame(index=['Non-QB Designed Runs','QB Designed Runs','Scrambles'],columns=['Mean EPA', 'St. Dev', 'Success Rate', 'Attempts'])\n",
    "df.loc['Non-QB Designed Runs'] = [epa_nonqb_running.mean(), epa_nonqb_running.std(), non_qb_run_success, len(epa_nonqb_running)]\n",
    "df.loc['QB Designed Runs'] = [epa_qb_running.mean(), epa_qb_running.std(), qb_run_success, len(epa_qb_running)]\n",
    "df.loc['Scrambles'] = [epa_scrambles.mean(), epa_scrambles.std(), scramble_success, len(epa_scrambles)]\n",
    "\n",
    "df['Mean EPA'] = df['Mean EPA'].astype(float).round(3)\n",
    "df['St. Dev'] = df['St. Dev'].astype(float).round(3)\n",
    "df['Success Rate'] = df['Success Rate'].astype(float).round(2)"
   ]
  },
  {
   "cell_type": "code",
   "execution_count": null,
   "metadata": {},
   "outputs": [],
   "source": []
  }
 ],
 "metadata": {
  "kernelspec": {
   "display_name": "Python 3",
   "language": "python",
   "name": "python3"
  },
  "language_info": {
   "codemirror_mode": {
    "name": "ipython",
    "version": 3
   },
   "file_extension": ".py",
   "mimetype": "text/x-python",
   "name": "python",
   "nbconvert_exporter": "python",
   "pygments_lexer": "ipython3",
   "version": "3.7.3"
  }
 },
 "nbformat": 4,
 "nbformat_minor": 2
}
