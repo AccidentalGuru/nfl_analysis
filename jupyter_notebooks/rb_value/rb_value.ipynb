{
 "cells": [
  {
   "cell_type": "code",
   "execution_count": null,
   "metadata": {},
   "outputs": [],
   "source": [
    "import pandas as pd\n",
    "import numpy as np\n",
    "import matplotlib.pyplot as plt\n",
    "from matplotlib.offsetbox import OffsetImage, AnnotationBbox, AnchoredText"
   ]
  },
  {
   "cell_type": "code",
   "execution_count": null,
   "metadata": {},
   "outputs": [],
   "source": [
    "pd.set_option('display.max_rows', 500)\n",
    "pd.set_option('display.max_columns', 300)\n",
    "pd.options.mode.chained_assignment = None"
   ]
  },
  {
   "cell_type": "code",
   "execution_count": null,
   "metadata": {},
   "outputs": [],
   "source": [
    "data = pd.read_csv('https://raw.githubusercontent.com/ryurko/nflscrapR-data/master/play_by_play_data/regular_season/reg_pbp_2018.csv')"
   ]
  },
  {
   "cell_type": "code",
   "execution_count": null,
   "metadata": {},
   "outputs": [],
   "source": [
    "#Get rid of quarters ending and other events\n",
    "data = data.loc[\n",
    "    (data['epa'].notnull()) &\n",
    "    ((data['play_type'] == 'no_play') |\n",
    "    (data['play_type'] == 'pass') |\n",
    "    (data['play_type'] == 'run'))\n",
    "]\n",
    "\n",
    "#Remove timeouts\n",
    "data.drop(data[(data['replay_or_challenge'] == 0) & (data['desc'].str.contains('Timeout'))].index, inplace=True)\n",
    "\n",
    "#Classify running plays with penalities as runs\n",
    "data.loc[data.desc.str.contains('left end|left tackle|left guard|up the middle|right guard|right tackle|right end|rushes'), 'play_type'] = 'run'\n",
    "\n",
    "#Classify scrambles, sacks, and incomplete/complete with penalty as pass plays instead of runs/no play\n",
    "data.loc[data.desc.str.contains('scrambles|sacked|pass'), 'play_type'] = 'pass'\n",
    "\n",
    "#Remove kneels and spikes\n",
    "#Kneels and spikes with penalties are classified as no_play, thus not removed in above cell\n",
    "data = data.loc[data.desc.str.contains('kneels|spiked') == False]\n",
    "\n",
    "#Reindex data dataframe\n",
    "data.reset_index(drop=True, inplace=True)"
   ]
  },
  {
   "cell_type": "code",
   "execution_count": null,
   "metadata": {},
   "outputs": [],
   "source": [
    "#Create a smaller dataframe with plays where rusher_player_name is null\n",
    "rusher_nan = data.loc[(data['play_type'] == 'run') &\n",
    "         (data['rusher_player_name'].isnull())]\n",
    "\n",
    "#Create a list of the indexes/indices for the plays where rusher_player_name is null\n",
    "rusher_nan_indices = list(rusher_nan.index)\n",
    "\n",
    "for i in rusher_nan_indices:\n",
    "    #Split the description on the blank spaces, isolating each word\n",
    "    desc = data['desc'].iloc[i].split()\n",
    "    \n",
    "    #For each word in the play description\n",
    "    for j in range(0,len(desc)):\n",
    "        #If a word is right, up, or left\n",
    "        if desc[j] == 'right' or desc[j] == 'up' or desc[j] == 'left':\n",
    "            #Set rusher_player_name for that play to the word just before the direction\n",
    "            data['rusher_player_name'].iloc[i] = desc[j-1]\n",
    "            \n",
    "        else:\n",
    "            pass"
   ]
  },
  {
   "cell_type": "code",
   "execution_count": null,
   "metadata": {},
   "outputs": [],
   "source": [
    "passer_nan = data.loc[(data['play_type'] == 'pass') &\n",
    "         (data['passer_player_name'].isnull())]\n",
    "\n",
    "passer_nan_indices = list(passer_nan.index)\n",
    "\n",
    "for i in passer_nan_indices:\n",
    "    desc = data['desc'].iloc[i].split()\n",
    "    \n",
    "    for j in range(0,len(desc)):\n",
    "        if desc[j] == 'pass':\n",
    "            data['passer_player_name'].iloc[i] = desc[j-1]\n",
    "            \n",
    "        else:\n",
    "            pass\n",
    "        \n",
    "data.loc[data['passer_player_name'] == 'Backward', 'passer_player_name'] = float('NaN')"
   ]
  },
  {
   "cell_type": "code",
   "execution_count": null,
   "metadata": {},
   "outputs": [],
   "source": [
    "receiver_nan = data.loc[(data['play_type'] == 'pass') & \n",
    "                        (data['receiver_player_name'].isnull()) &\n",
    "                        (data['desc'].str.contains('scrambles|sacked|incomplete')==False)]\n",
    "\n",
    "receiver_nan_indices = list(receiver_nan.index)\n",
    "\n",
    "for i in receiver_nan_indices:\n",
    "    desc = data['desc'].iloc[i].split()\n",
    "\n",
    "    for j in range(0,len(desc)):\n",
    "        if (desc[j]=='left' or desc[j]=='right' or desc[j]=='middle') and (desc[j+1]=='to'):\n",
    "            data['receiver_player_name'].iloc[i] = desc[j+2]\n",
    "    else:\n",
    "        pass"
   ]
  },
  {
   "cell_type": "code",
   "execution_count": null,
   "metadata": {},
   "outputs": [],
   "source": [
    "data.insert(69, 'success', 0)\n",
    "data.loc[data['epa'] > 0, 'success'] = 1"
   ]
  },
  {
   "cell_type": "code",
   "execution_count": null,
   "metadata": {},
   "outputs": [],
   "source": [
    "rb_run_value = data.loc[(data['play_type']=='run') & (data['down']<=4)].groupby(\n",
    "    by='rusher_player_name')[['epa','success']].mean()\n",
    "rb_run_value['run_attempts'] = data.loc[(data['play_type']=='run') & (data['down']<=4)].groupby(\n",
    "    by='rusher_player_name')['epa'].count()\n",
    "rb_run_value.index.name = 'player_name'\n",
    "rb_run_value.columns = ['run_epa','run_success','run_attempts']"
   ]
  },
  {
   "cell_type": "code",
   "execution_count": null,
   "metadata": {},
   "outputs": [],
   "source": [
    "rb_pass_value = data.loc[(data['play_type']=='pass') & (data['down']<=4)].groupby(\n",
    "    by='receiver_player_name')[['epa','success']].mean()\n",
    "rb_pass_value['pass_receptions'] = data.loc[(data['play_type']=='pass') & (data['down']<=4)].groupby(\n",
    "    by='receiver_player_name')['epa'].count()\n",
    "rb_pass_value.index.name = 'player_name'\n",
    "rb_pass_value.columns = ['pass_epa','pass_success','pass_receptions']"
   ]
  },
  {
   "cell_type": "code",
   "execution_count": null,
   "metadata": {},
   "outputs": [],
   "source": [
    "rb_value = pd.merge(rb_run_value, rb_pass_value, on='player_name')"
   ]
  },
  {
   "cell_type": "code",
   "execution_count": null,
   "metadata": {},
   "outputs": [],
   "source": [
    "rb_value = rb_value.loc[(rb_value['run_attempts']>=40) & (rb_value['pass_receptions']>=20)]"
   ]
  },
  {
   "cell_type": "code",
   "execution_count": null,
   "metadata": {},
   "outputs": [],
   "source": [
    "x_data = rb_value['run_epa'].values\n",
    "y_data = rb_value['pass_epa'].values\n",
    "\n",
    "fig, ax = plt.subplots(figsize=(10,10))\n",
    "\n",
    "ax.scatter(x_data, y_data, s=200, alpha=.6, edgecolor='black', color='darkcyan')\n",
    "\n",
    "# #Set line where x=y\n",
    "# lims = [np.min([ax.get_xlim(),ax.get_ylim()]), np.max([ax.get_xlim(),ax.get_ylim()])]\n",
    "# ax.plot(lims, lims, 'k--', alpha=.8)\n",
    "\n",
    "#Add line for above/below\n",
    "axes = plt.gca()\n",
    "x_vals = np.array(axes.get_xlim())\n",
    "y_vals = 1 * x_vals\n",
    "ax.plot(x_vals, y_vals, '--', color='black', alpha=.6)\n",
    "\n",
    "ax.set_xlabel('Average Run EPA', fontsize=14)\n",
    "ax.set_ylabel('Average Pass EPA', fontsize=14)\n",
    "ax.set_title('Running Back EPA Run vs. Pass - 2018', fontsize=18)\n",
    "text_box = AnchoredText('Data from nflscrapR', frameon=True, loc=4, pad=0.5, prop=dict(alpha=.7))\n",
    "plt.setp(text_box.patch, facecolor='white', alpha=0)\n",
    "plt.gca().add_artist(text_box)\n",
    "\n",
    "plt.savefig('rb_epa.png',dpi=600)"
   ]
  },
  {
   "cell_type": "code",
   "execution_count": null,
   "metadata": {},
   "outputs": [],
   "source": [
    "x_data = rb_value['run_success'].values\n",
    "y_data = rb_value['pass_success'].values\n",
    "\n",
    "fig, ax = plt.subplots(figsize=(10,10))\n",
    "\n",
    "ax.scatter(x_data, y_data, s=200, alpha=.6, edgecolor='black', color='darkcyan')\n",
    "# #Add labels\n",
    "# for i, player in enumerate(rb_value.index.values):\n",
    "#     x = x_data[i]\n",
    "#     y = y_data[i]\n",
    "    \n",
    "#     ax.scatter(x,y,s=100, alpha=.6, edgecolor='black', color='darkcyan')\n",
    "#     ax.text(x+.005, y+.005, player, fontsize=8)\n",
    "\n",
    "# #Set line where x=y\n",
    "# lims = [np.min([ax.get_xlim(),ax.get_ylim()]), np.max([ax.get_xlim(),ax.get_ylim()])]\n",
    "# ax.plot(lims, lims, 'k--', alpha=.8)    \n",
    "\n",
    "#Add line for above/below\n",
    "axes = plt.gca()\n",
    "x_vals = np.array(axes.get_xlim())\n",
    "y_vals = 1 * x_vals\n",
    "ax.plot(x_vals, y_vals, '--', color='black', alpha=.6)\n",
    "\n",
    "ax.set_xlabel('Run Success', fontsize=14)\n",
    "ax.set_ylabel('Pass Success', fontsize=14)\n",
    "ax.set_title('Running Back Success Run vs. Pass - 2018', fontsize=18)\n",
    "text_box = AnchoredText('Data from nflscrapR', frameon=True, loc=4, pad=0.5, prop=dict(alpha=.7))\n",
    "plt.setp(text_box.patch, facecolor='white', alpha=0)\n",
    "plt.gca().add_artist(text_box)\n",
    "\n",
    "plt.savefig('rb_success.png',dpi=600)"
   ]
  },
  {
   "cell_type": "code",
   "execution_count": null,
   "metadata": {},
   "outputs": [],
   "source": []
  }
 ],
 "metadata": {
  "kernelspec": {
   "display_name": "Python 3",
   "language": "python",
   "name": "python3"
  },
  "language_info": {
   "codemirror_mode": {
    "name": "ipython",
    "version": 3
   },
   "file_extension": ".py",
   "mimetype": "text/x-python",
   "name": "python",
   "nbconvert_exporter": "python",
   "pygments_lexer": "ipython3",
   "version": "3.7.3"
  }
 },
 "nbformat": 4,
 "nbformat_minor": 2
}
